{
 "cells": [
  {
   "cell_type": "markdown",
   "id": "unexpected-dream",
   "metadata": {},
   "source": [
    "# Kata 1 - Primeros pasos"
   ]
  },
  {
   "cell_type": "markdown",
   "id": "adverse-casino",
   "metadata": {},
   "source": [
    "En este módulo, aprenderás una variedad de temas, como entrada y salida a la consola, variables y tipos de datos, y conversión de tipos.\n",
    "\n",
    "---"
   ]
  },
  {
   "cell_type": "markdown",
   "id": "blond-graduation",
   "metadata": {},
   "source": [
    "Oficial superior> \"¿Cadete?\"\n",
    "\n",
    "Usted > \"¿Sí, señora?\"\n",
    "\n",
    "Oficial superior> \"¿Puedes construir un programa que me muestre la fecha? La computadora del barco no venía con mucho en términos de programas de utilidad, por lo que necesitamos crear los que necesitamos. ¿Puedo confiar en ti con esto?\"\n",
    "\n",
    "Usted > \"Considéralo hecho\".\n",
    "\n",
    "Oficial superior> \"Excelente\".\n",
    "\n"
   ]
  },
  {
   "cell_type": "markdown",
   "id": "reserved-purchase",
   "metadata": {},
   "source": [
    "# Primer programa"
   ]
  },
  {
   "cell_type": "markdown",
   "id": "banned-penny",
   "metadata": {},
   "source": [
    "Para crear este programa, deberás utilizar los conceptos que aprendiste en el último módulo. Usarás Jupyter Notebook en este ejercicio, que es una combinación de texto y código con la que puede interactuar. Finaliza el código siguiente para que el resultado muestre la fecha de hoy."
   ]
  },
  {
   "cell_type": "code",
   "execution_count": 1,
   "id": "abstract-baseball",
   "metadata": {},
   "outputs": [
    {
     "name": "stdout",
     "output_type": "stream",
     "text": [
      "La fecha de hoy es: 2022-02-07\n"
     ]
    }
   ],
   "source": [
    "from datetime import date\n",
    "\n",
    "print(\"La fecha de hoy es: \" + str(date.today()))"
   ]
  },
  {
   "cell_type": "markdown",
   "id": "guided-taxation",
   "metadata": {},
   "source": [
    "## Construir un convertidor de unidades"
   ]
  },
  {
   "cell_type": "markdown",
   "id": "endless-gateway",
   "metadata": {},
   "source": [
    "El oficial superior> \"Necesito una cosa más: un programa de conversión entre parsecs y años luz. Tener un programa de este tipo podría ser realmente útil en el puente para trazar nuestro curso\"."
   ]
  },
  {
   "cell_type": "markdown",
   "id": "brave-jones",
   "metadata": {},
   "source": [
    "Tú> \"¡Lo haré!\""
   ]
  },
  {
   "cell_type": "code",
   "execution_count": 2,
   "id": "outdoor-board",
   "metadata": {},
   "outputs": [
    {
     "name": "stdout",
     "output_type": "stream",
     "text": [
      "15 parsec, son 48.923399999999994 años luz\n"
     ]
    }
   ],
   "source": [
    "parsec = 15\n",
    "lightyears = 3.26156 * parsec\n",
    "\n",
    "print(str(parsec) + \" parsec, son \" + str(lightyears) + \" años luz\")\n"
   ]
  },
  {
   "cell_type": "markdown",
   "id": "lucky-domain",
   "metadata": {},
   "source": [
    "---\n",
    "Curso Propedútico de Python para Launch X - Innovacción Virtual.\n",
    "\n",
    "Material desarrollado con base en los contenidos de MSLearn y la metáfora de LaunchX, traducción e implementación por: Fernanda Ochoa - Learning Producer de LaunchX.\n",
    "\n",
    "Commander\n",
    "\n",
    "GitHub: [FernandaOchoa](https://github.com/FernandaOchoa)<br>\n",
    "Twitter: [@imonsh](https://twitter.com/imonsh)<br>\n",
    "Instagram: [fherz8a](https://www.instagram.com/fherz8a/)<br>\n",
    "\n",
    "Explorer\n",
    "\n",
    "GitHub: [JoelBuenrostro](https://github.com/JoelBuenrostro)<br>\n",
    "Twitter: [@esteGeek](https://twitter.com/esteGeek)<br>"
   ]
  }
 ],
 "metadata": {
  "kernelspec": {
   "display_name": "Python 3",
   "language": "python",
   "name": "python3"
  },
  "language_info": {
   "codemirror_mode": {
    "name": "ipython",
    "version": 3
   },
   "file_extension": ".py",
   "mimetype": "text/x-python",
   "name": "python",
   "nbconvert_exporter": "python",
   "pygments_lexer": "ipython3",
   "version": "3.9.5"
  }
 },
 "nbformat": 4,
 "nbformat_minor": 5
}
