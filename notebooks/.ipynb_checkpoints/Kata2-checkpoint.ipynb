{
 "cells": [
  {
   "cell_type": "markdown",
   "metadata": {},
   "source": [
    "# Kata 2 - Crear y administrar proyectos"
   ]
  },
  {
   "cell_type": "markdown",
   "metadata": {},
   "source": [
    "Para administrar proyectos, necesitas de un entorno virtual, paquetes que te ayudarán a desarrollar más rápido y una estrategia para mantener los paquetes.\n",
    "\n",
    "---"
   ]
  },
  {
   "cell_type": "markdown",
   "metadata": {},
   "source": [
    "## Ejercicio - Crear un paquete"
   ]
  },
  {
   "cell_type": "markdown",
   "metadata": {},
   "source": [
    "En este ejercicio, aprenderás a utilizar entornos virtuales como una forma para no afectar a los paquetes instalados globalmente u otros programas que se ejecutan en tu máquina.\n",
    "\n",
    "Para este ejercicio es necesario que lo ejecutes desde la terminal, línea de comandos, cmd, consola, cli, etc. de tu computadora, sé que es desafíante, pero no te preocupes ¡¡Sé que puedes lograrlo!!"
   ]
  },
  {
   "cell_type": "markdown",
   "metadata": {},
   "source": [
    "### Crear un entorno virtual"
   ]
  },
  {
   "cell_type": "markdown",
   "metadata": {},
   "source": [
    "Crea un entorno virtual mediante ``venv``\n",
    "\n",
    "* Ejecutar en su terminal: ``python3 -m venv env``\n",
    "\n",
    "    ```python\n",
    "       python3 -m venv env \n",
    "    ```\n",
    "\n",
    "    Ahora tienes un directorio (folder) ``env`` creado en tu terminal.\n",
    "\n",
    "* Ejecuta el comando para activar el entorno virtual:\n",
    " \n",
    "``source env/bin/activate``\n",
    "\n",
    "    ```\n",
    "    source env/bin/activate\n",
    "    # Windows\n",
    "    env\\bin\\activate\n",
    "\n",
    "    # Linux, WSL or macOS\n",
    "    source env/bin/activate\n",
    "    ```\n",
    "\n",
    "Ahora ves en tu terminal ``(env)``. Eso significa que has activado tu entorno virtual y se ha aislado del resto de tu máquina."
   ]
  },
  {
   "cell_type": "markdown",
   "metadata": {},
   "source": [
    "### Instalar una biblioteca"
   ]
  },
  {
   "cell_type": "markdown",
   "metadata": {},
   "source": [
    "Ahora que estás dentro de tu entorno virtual, puedes instalar una biblioteca y saber que la biblioteca solo existirá en el entorno virtual.\n",
    "\n",
    "* Ejecuta el comando ``pip freeze`` para ver las bibliotecas instaladas en tu entorno:\n",
    "\n",
    "    ```\n",
    "    pip freeze\n",
    "    ```\n",
    "\n",
    "    No deberías obtener respuesta. A continuación, veamos cómo cambia la salida de ``pip freeze`` cuando se agrega una biblioteca (un paquete).\n",
    "\n",
    "* Ejecuta el comando ``pip install`` para instalar una biblioteca:\n",
    "   ```\n",
    "   pip install python-dateutil\n",
    "   ```\n",
    "* Un gran mensaje de salida de texto dice que está instalando tu biblioteca, y debe terminar con la siguiente oración:\n",
    "\n",
    "    ```\n",
    "    Successfully installed python-dateutil-2.8.2 six-1.16.0\n",
    "    ```\n",
    "* Vuelve a ejecutar ```pip freeze``` para ver cómo ha cambiado tu lista de bibliotecas:\n",
    "    ```\n",
    "    pip freeze\n",
    "    ```\n",
    "* Ahora deberías ver la siguiente lista:\n",
    "    ```\n",
    "    python-dateutil==2.8.2\n",
    "    six==1.16.0"
   ]
  },
  {
   "cell_type": "markdown",
   "metadata": {},
   "source": [
    "### Desactivar un entorno virtual"
   ]
  },
  {
   "cell_type": "markdown",
   "metadata": {},
   "source": [
    "Hasta ahora, has creado un entorno virtual y le has agregado un paquete. Sin embargo, es posible que estés trabajando en varios proyectos de Python y necesites cambiar entre ellos. Para hacer eso, debes salir (desactivar) tu entorno virtual.\n",
    "\n",
    "Ejecuta el comando ``deactivate``:\n",
    "```\n",
    "deactivate\n",
    "```\n",
    "\n",
    "Observa cómo cambia el mensaje de tu terminal ``(env)`` a cómo se veía antes.\n",
    "\n",
    "¡Felicidades! Has logrado crear y usar correctamente un entorno virtual."
   ]
  },
  {
   "cell_type": "markdown",
   "metadata": {},
   "source": [
    "---\n",
    "Curso Propedútico de Python para Launch X - Innovacción Virtual.\n",
    "\n",
    "Material desarrollado con base en los contenidos de MSLearn y la metáfora de LaunchX, traducción e implementación por: Fernanda Ochoa - Learning Producer de LaunchX.\n",
    "\n",
    "Commander\n",
    "\n",
    "GitHub: [FernandaOchoa](https://github.com/FernandaOchoa)<br>\n",
    "Twitter: [@imonsh](https://twitter.com/imonsh)<br>\n",
    "Instagram: [fherz8a](https://www.instagram.com/fherz8a/)<br>\n",
    "\n",
    "Explorer\n",
    "\n",
    "GitHub: [JoelBuenrostro](https://github.com/JoelBuenrostro)<br>\n",
    "Twitter: [@esteGeek](https://twitter.com/esteGeek)<br>"
   ]
  }
 ],
 "metadata": {
  "kernelspec": {
   "display_name": "Python 3",
   "language": "python",
   "name": "python3"
  },
  "language_info": {
   "codemirror_mode": {
    "name": "ipython",
    "version": 3
   },
   "file_extension": ".py",
   "mimetype": "text/x-python",
   "name": "python",
   "nbconvert_exporter": "python",
   "pygments_lexer": "ipython3",
   "version": "3.9.5"
  }
 },
 "nbformat": 4,
 "nbformat_minor": 4
}
